{
 "cells": [
  {
   "cell_type": "markdown",
   "metadata": {},
   "source": [
    "# Inspecting tensors\n",
    "\n",
    "The details of the various variables and methods for inspection of a tensor is available at https://www.tensorflow.org/api_docs/python/state_ops/\n",
    "\n",
    "We will discuss a few variables below. The graph to which a given tensor belongs can be obtained using graph variable. \n",
    "\n",
    "The 'op' variable returns the details of the operations in a given tensor. For example in the mainno variable, the op returns the fact that the operation is random_uniform, the output type is int32 and the seed (3457) obtained from the graph.\n",
    "\n",
    "A call to 'op' variable for powerballno shows that the operation is concatenate and that there are two calls to random_uniform function."
   ]
  },
  {
   "cell_type": "code",
   "execution_count": 6,
   "metadata": {
    "collapsed": false
   },
   "outputs": [
    {
     "name": "stdout",
     "output_type": "stream",
     "text": [
      "[45 24 43 22 14 12 45 24 43 22 14]\n",
      "[45 24 43 22 14 12 45 24 43 22 14]\n",
      "-------- Graph Object --------\n",
      "<tensorflow.python.framework.ops.Graph object at 0x000001D3D59BEB38>\n",
      "name: \"concat_5\"\n",
      "op: \"ConcatV2\"\n",
      "input: \"random_uniform_10\"\n",
      "input: \"random_uniform_11\"\n",
      "input: \"random_uniform_10\"\n",
      "input: \"concat_5/axis\"\n",
      "attr {\n",
      "  key: \"N\"\n",
      "  value {\n",
      "    i: 3\n",
      "  }\n",
      "}\n",
      "attr {\n",
      "  key: \"T\"\n",
      "  value {\n",
      "    type: DT_INT32\n",
      "  }\n",
      "}\n",
      "attr {\n",
      "  key: \"Tidx\"\n",
      "  value {\n",
      "    type: DT_INT32\n",
      "  }\n",
      "}\n",
      "\n"
     ]
    }
   ],
   "source": [
    "import tensorflow as tf\n",
    "tf.set_random_seed(3457)\n",
    "mainno = tf.random_uniform(shape=(5, ), minval=1, maxval=59, dtype=tf.int32)\n",
    "lastno = tf.random_uniform((1, ), minval=1, maxval=35, dtype=tf.int32)\n",
    "powerballno = tf.concat([mainno, lastno, mainno], 0)\n",
    "with tf.Session() as sess1:\n",
    "    print(sess1.run(powerballno))\n",
    "\n",
    "with tf.Session() as sess2:\n",
    "    print(sess2.run(powerballno))\n",
    "    \n",
    "# Properties of a variable \n",
    "print(\"-------- Graph Object --------\")\n",
    "print(powerballno.graph)\n",
    "\n",
    "#print(\"-------- Operations in mainno --------\")\n",
    "#print(mainno.op)\n",
    "\n",
    "#print(\"-------- Operations in powerballno --------\")\n",
    "print(powerballno.op)"
   ]
  },
  {
   "cell_type": "markdown",
   "metadata": {},
   "source": [
    "To get a list of all the properties and variables associated with a given variable, use the dir() function."
   ]
  },
  {
   "cell_type": "code",
   "execution_count": 2,
   "metadata": {
    "collapsed": false
   },
   "outputs": [
    {
     "name": "stdout",
     "output_type": "stream",
     "text": [
      "['OVERLOADABLE_OPERATORS', '__abs__', '__add__', '__and__', '__array_priority__', '__bool__', '__class__', '__delattr__', '__dict__', '__dir__', '__div__', '__doc__', '__eq__', '__floordiv__', '__format__', '__ge__', '__getattribute__', '__getitem__', '__gt__', '__hash__', '__init__', '__init_subclass__', '__invert__', '__iter__', '__le__', '__lt__', '__matmul__', '__mod__', '__module__', '__mul__', '__ne__', '__neg__', '__new__', '__nonzero__', '__or__', '__pow__', '__radd__', '__rand__', '__rdiv__', '__reduce__', '__reduce_ex__', '__repr__', '__rfloordiv__', '__rmatmul__', '__rmod__', '__rmul__', '__ror__', '__rpow__', '__rsub__', '__rtruediv__', '__rxor__', '__setattr__', '__sizeof__', '__str__', '__sub__', '__subclasshook__', '__truediv__', '__weakref__', '__xor__', '_add_consumer', '_as_node_def_input', '_as_tf_output', '_consumers', '_dtype', '_handle_dtype', '_handle_shape', '_op', '_override_operator', '_shape', '_shape_as_list', '_value_index', 'consumers', 'device', 'dtype', 'eval', 'get_shape', 'graph', 'name', 'op', 'set_shape', 'shape', 'value_index']\n"
     ]
    }
   ],
   "source": [
    "print(dir(mainno))"
   ]
  },
  {
   "cell_type": "markdown",
   "metadata": {},
   "source": [
    "As can be seen in the example above, the variable mainno has many \"magic\" methods, the methods that have \\_\\_ (double underscore a.k.a dunder) on either sides. You can find more details about magic methods at https://docs.python.org/3/reference/datamodel.html#special-method-names.  We will demonstrate the use of magic methods using an example.\n",
    "\n",
    "We will create 2 variables var1 and var2 using numpy and convert them to tensors using tf.constant. The variable var1 is of size (1, 3,) and all its values are equal to 5. The variable var2 is also of size (1, 3,) and all its values are equal to 1. The variables are added using three methods, one using a magic method and the second using add function and the third using the operator +. The operations  stored in to variables sumvar_dunder, sumvar_nondunder and sumvar_operator. When a session is started and executed, the three methods yield the same value, a tensor of length 3 containing values of 6. \n",
    "\n",
    "\n",
    "\n",
    "It is important to note the following:\n",
    "1. The three mechanisms produce the same result.\n",
    "2. The use of + operator is 'pythonic' while the use of add or \\_\\_add\\_\\_ is not.\n",
    "3. The use of + operator produces a readable code while the use of add or \\_\\_add\\_\\_ does not.\n",
    "4. The + operator overloads the meaning of addition of tensors using \\_\\_add\\_\\_ method."
   ]
  },
  {
   "cell_type": "code",
   "execution_count": 3,
   "metadata": {
    "collapsed": false
   },
   "outputs": [
    {
     "name": "stdout",
     "output_type": "stream",
     "text": [
      "Tensor(\"add:0\", shape=(1, 3), dtype=float64) add:0\n",
      "Tensor(\"Add:0\", shape=(1, 3), dtype=float64) Add:0\n",
      "Tensor(\"add_1:0\", shape=(1, 3), dtype=float64) add_1:0\n",
      "[[ 6.  6.  6.]]\n",
      "[[ 6.  6.  6.]]\n",
      "[[ 6.  6.  6.]]\n"
     ]
    }
   ],
   "source": [
    "import numpy as np\n",
    "\n",
    "var1 = tf.constant(np.ones((1, 3,))*5)\n",
    "var2 = tf.constant(np.ones((1, 3,)))\n",
    "\n",
    "sumvar_dunder = var1.__add__(var2)\n",
    "print(sumvar_dunder, sumvar_dunder.name)\n",
    "\n",
    "sumvar_nondunder = tf.add(var1, var2)\n",
    "print(sumvar_nondunder, sumvar_nondunder.name)\n",
    "\n",
    "sumvar_operator = var1 + var2\n",
    "print(sumvar_operator, sumvar_operator.name)\n",
    "\n",
    "with tf.Session() as sess1:\n",
    "    print(sess1.run(sumvar_dunder))\n",
    "    print(sess1.run(sumvar_nondunder))\n",
    "    print(sess1.run(sumvar_operator)) "
   ]
  },
  {
   "cell_type": "code",
   "execution_count": 5,
   "metadata": {
    "collapsed": false
   },
   "outputs": [
    {
     "name": "stdout",
     "output_type": "stream",
     "text": [
      "[<tf.Operation 'random_uniform/shape' type=Const>, <tf.Operation 'random_uniform/min' type=Const>, <tf.Operation 'random_uniform/max' type=Const>, <tf.Operation 'random_uniform' type=RandomUniformInt>, <tf.Operation 'random_uniform_1/shape' type=Const>, <tf.Operation 'random_uniform_1/min' type=Const>, <tf.Operation 'random_uniform_1/max' type=Const>, <tf.Operation 'random_uniform_1' type=RandomUniformInt>, <tf.Operation 'random_uniform_2/shape' type=Const>, <tf.Operation 'random_uniform_2/min' type=Const>, <tf.Operation 'random_uniform_2/max' type=Const>, <tf.Operation 'random_uniform_2' type=RandomUniformInt>, <tf.Operation 'random_uniform_3/shape' type=Const>, <tf.Operation 'random_uniform_3/min' type=Const>, <tf.Operation 'random_uniform_3/max' type=Const>, <tf.Operation 'random_uniform_3' type=RandomUniformInt>, <tf.Operation 'concat_1/axis' type=Const>, <tf.Operation 'concat_1' type=ConcatV2>, <tf.Operation 'Const' type=Const>, <tf.Operation 'Const_1' type=Const>, <tf.Operation 'add' type=Add>, <tf.Operation 'Add' type=Add>, <tf.Operation 'add_1' type=Add>, <tf.Operation 'Const_2' type=Const>, <tf.Operation 'Const_3' type=Const>, <tf.Operation 'add_2' type=Add>, <tf.Operation 'Add_1' type=Add>, <tf.Operation 'add_3' type=Add>]\n"
     ]
    }
   ],
   "source": [
    "print(tf.get_default_graph().get_operations())"
   ]
  },
  {
   "cell_type": "code",
   "execution_count": 6,
   "metadata": {
    "collapsed": false
   },
   "outputs": [
    {
     "name": "stdout",
     "output_type": "stream",
     "text": [
      "[<tf.Operation 'random_uniform/shape' type=Const>, <tf.Operation 'random_uniform/min' type=Const>, <tf.Operation 'random_uniform/max' type=Const>, <tf.Operation 'random_uniform' type=RandomUniformInt>, <tf.Operation 'random_uniform_1/shape' type=Const>, <tf.Operation 'random_uniform_1/min' type=Const>, <tf.Operation 'random_uniform_1/max' type=Const>, <tf.Operation 'random_uniform_1' type=RandomUniformInt>, <tf.Operation 'random_uniform_2/shape' type=Const>, <tf.Operation 'random_uniform_2/min' type=Const>, <tf.Operation 'random_uniform_2/max' type=Const>, <tf.Operation 'random_uniform_2' type=RandomUniformInt>, <tf.Operation 'random_uniform_3/shape' type=Const>, <tf.Operation 'random_uniform_3/min' type=Const>, <tf.Operation 'random_uniform_3/max' type=Const>, <tf.Operation 'random_uniform_3' type=RandomUniformInt>, <tf.Operation 'concat_1/axis' type=Const>, <tf.Operation 'concat_1' type=ConcatV2>, <tf.Operation 'Const' type=Const>, <tf.Operation 'Const_1' type=Const>, <tf.Operation 'add' type=Add>, <tf.Operation 'Add' type=Add>, <tf.Operation 'add_1' type=Add>, <tf.Operation 'Const_2' type=Const>, <tf.Operation 'Const_3' type=Const>, <tf.Operation 'add_2' type=Add>, <tf.Operation 'Add_1' type=Add>, <tf.Operation 'add_3' type=Add>, <tf.Operation 'random_uniform_4/shape' type=Const>, <tf.Operation 'random_uniform_4/min' type=Const>, <tf.Operation 'random_uniform_4/max' type=Const>, <tf.Operation 'random_uniform_4/RandomUniform' type=RandomUniform>, <tf.Operation 'random_uniform_4/sub' type=Sub>, <tf.Operation 'random_uniform_4/mul' type=Mul>, <tf.Operation 'random_uniform_4' type=Add>, <tf.Operation 'Variable' type=VariableV2>, <tf.Operation 'Variable/Assign' type=Assign>, <tf.Operation 'Variable/read' type=Identity>, <tf.Operation 'Placeholder' type=Placeholder>, <tf.Operation 'MatMul' type=MatMul>, <tf.Operation 'Relu' type=Relu>]\n"
     ]
    }
   ],
   "source": [
    "W = tf.Variable(tf.random_uniform((784, 100), -1, 1))\n",
    "x = tf.placeholder(tf.float32, (100, 784))\n",
    "h = tf.nn.relu(tf.matmul(x, W))\n",
    "print(tf.get_default_graph().get_operations())"
   ]
  },
  {
   "cell_type": "code",
   "execution_count": 7,
   "metadata": {
    "collapsed": false
   },
   "outputs": [
    {
     "name": "stdout",
     "output_type": "stream",
     "text": [
      "['__class__', '__delattr__', '__dict__', '__dir__', '__doc__', '__eq__', '__format__', '__ge__', '__getattribute__', '__gt__', '__hash__', '__init__', '__init_subclass__', '__le__', '__lt__', '__module__', '__ne__', '__new__', '__reduce__', '__reduce_ex__', '__repr__', '__setattr__', '__sizeof__', '__str__', '__subclasshook__', '__weakref__', '_caching_device', '_custom_getter', '_dtype', '_get_partitioned_variable', '_initializer', '_name', '_name_scope', '_partitioner', '_regularizer', '_reuse', 'caching_device', 'custom_getter', 'dtype', 'get_variable', 'initializer', 'name', 'original_name_scope', 'partitioner', 'regularizer', 'reuse', 'reuse_variables', 'set_caching_device', 'set_custom_getter', 'set_dtype', 'set_initializer', 'set_partitioner', 'set_regularizer']\n"
     ]
    }
   ],
   "source": [
    "# A feed in tensorflow is a dictionary that maps the nodes in the \n",
    "# graph to concrete values.\n",
    "print(dir(tf.get_variable_scope()))"
   ]
  },
  {
   "cell_type": "code",
   "execution_count": null,
   "metadata": {
    "collapsed": true
   },
   "outputs": [],
   "source": []
  },
  {
   "cell_type": "code",
   "execution_count": null,
   "metadata": {
    "collapsed": true
   },
   "outputs": [],
   "source": []
  },
  {
   "cell_type": "code",
   "execution_count": null,
   "metadata": {
    "collapsed": true
   },
   "outputs": [],
   "source": []
  }
 ],
 "metadata": {
  "kernelspec": {
   "display_name": "Python 3",
   "language": "python",
   "name": "python3"
  },
  "language_info": {
   "codemirror_mode": {
    "name": "ipython",
    "version": 3
   },
   "file_extension": ".py",
   "mimetype": "text/x-python",
   "name": "python",
   "nbconvert_exporter": "python",
   "pygments_lexer": "ipython3",
   "version": "3.6.0"
  }
 },
 "nbformat": 4,
 "nbformat_minor": 1
}
