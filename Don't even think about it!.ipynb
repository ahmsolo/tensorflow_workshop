{
 "cells": [
  {
   "cell_type": "code",
   "execution_count": 22,
   "metadata": {
    "collapsed": true
   },
   "outputs": [],
   "source": [
    "import tensorflow as tf\n",
    "import numpy as np"
   ]
  },
  {
   "cell_type": "markdown",
   "metadata": {},
   "source": [
    "## 10_data types"
   ]
  },
  {
   "cell_type": "code",
   "execution_count": 1,
   "metadata": {
    "collapsed": false
   },
   "outputs": [
    {
     "name": "stdout",
     "output_type": "stream",
     "text": [
      "-2\n"
     ]
    }
   ],
   "source": [
    "'''\n",
    "In-class activity: Create a tensor, A with constant() with value -11. Create another tensor, B  with \n",
    "value 9. Add the tensors, and call it C. Then run C and print the output. \n",
    "'''\n",
    "A = tf.constant(-11)\n",
    "B = tf.constant(9)\n",
    "C = A + B\n",
    "with tf.Session() as sess:\n",
    "    print(sess.run(C))"
   ]
  },
  {
   "cell_type": "code",
   "execution_count": 5,
   "metadata": {
    "collapsed": false
   },
   "outputs": [
    {
     "name": "stdout",
     "output_type": "stream",
     "text": [
      "[[17 18 20]]\n"
     ]
    }
   ],
   "source": [
    "'''\n",
    "In-class activity: Create a tensor, D with constant() with values [7, 8, 10]. Create another tensor, \n",
    "E of size (1, 3) using fill() that has value 10. Add the tensors, and call it F.\n",
    "Then run F and print the output. \n",
    "'''\n",
    "D = tf.constant([7, 8, 10])\n",
    "E = tf.fill((1,3), 10)\n",
    "F = D + E\n",
    "with tf.Session() as sess:\n",
    "    print(sess.run(F))"
   ]
  },
  {
   "cell_type": "code",
   "execution_count": 8,
   "metadata": {
    "collapsed": false
   },
   "outputs": [
    {
     "name": "stdout",
     "output_type": "stream",
     "text": [
      "[[1 0]\n",
      " [0 1]]\n"
     ]
    }
   ],
   "source": [
    "'''\n",
    "In-class activity: Create a placeholder tensor, W1 of shape (2, 2). Create a numpy array I with \n",
    "values [1, 0], [0, 1]. Define another tensor M that computes I*I. Run M and feed I.\n",
    "'''\n",
    "I = np.array([[1, 0],[0, 1]])\n",
    "w1 = tf.placeholder(tf.float32, shape=(2,2))\n",
    "M = tf.matmul(I, I)\n",
    "with tf.Session() as sess:\n",
    "    print(sess.run(M, feed_dict={w1: I}))"
   ]
  },
  {
   "cell_type": "code",
   "execution_count": 15,
   "metadata": {
    "collapsed": false
   },
   "outputs": [
    {
     "name": "stdout",
     "output_type": "stream",
     "text": [
      "[-2 -2 -2]\n"
     ]
    }
   ],
   "source": [
    "'''\n",
    "In-class activity: Create a tensor, v1 using Variable() with values [2, 4, 6]. \n",
    "Create another tensor, v2 using Variable() with values [4 6 8]. Define v3 as the sum of v1 and v2. \n",
    "initialize the variable values and then run and print v3.\n",
    "'''\n",
    "v1 = tf.Variable(tf.constant([2, 4, 6], name = 'variable1'))\n",
    "v2 = tf.Variable(tf.constant([4, 6, 8], name=\"variable2\"))\n",
    "\n",
    "v3 = tf.subtract(v1, v2)\n",
    "init_all_op = tf.global_variables_initializer()\n",
    "\n",
    "with tf.Session() as sess:\n",
    "    sess.run(init_all_op)\n",
    "    print(sess.run(v3))"
   ]
  },
  {
   "cell_type": "markdown",
   "metadata": {},
   "source": [
    "## 20_transformations"
   ]
  },
  {
   "cell_type": "code",
   "execution_count": 17,
   "metadata": {
    "collapsed": false
   },
   "outputs": [
    {
     "name": "stdout",
     "output_type": "stream",
     "text": [
      "Tensor(\"Const_7:0\", shape=(3,), dtype=int32)\n",
      "T11: Tensor(\"Cast:0\", shape=(3,), dtype=float32)\n",
      "T12: Tensor(\"ToFloat_1:0\", shape=(3,), dtype=float32)\n"
     ]
    }
   ],
   "source": [
    "'''\n",
    "In-class activity: Define a tensor, T1 with values [31, 37, 41] then print the dtype of this tensor. \n",
    "Then change T1's dtype to float using \n",
    "1) to_float()\n",
    "2) cast()\n",
    "'''\n",
    "T1 = tf.constant([31, 37, 41])\n",
    "print(T1)\n",
    "T11 = tf.cast(T1, tf.float32)  # Cast the individual elements from int32 to float32\n",
    "print(\"T11:\", T11)\n",
    "T12 = tf.to_float(T1)  # Specialized function. \n",
    "print(\"T12:\", T12)"
   ]
  },
  {
   "cell_type": "code",
   "execution_count": null,
   "metadata": {
    "collapsed": true
   },
   "outputs": [],
   "source": [
    "'''\n",
    "In-class activity: Create a tensor with shape (12, 1, 14) and then drop the dimension 1.\n",
    "'''\n",
    "t1 = tf.zeros((12, 1, 14))\n",
    "t2 = tf.squeeze(t1) # squeeze removes dimensions of size 1\n",
    "print(t1)\n",
    "print(t2)"
   ]
  },
  {
   "cell_type": "code",
   "execution_count": 18,
   "metadata": {
    "collapsed": false
   },
   "outputs": [
    {
     "name": "stdout",
     "output_type": "stream",
     "text": [
      "[[12 13 11]\n",
      " [ 9 11  9]\n",
      " [ 2  5  7]]\n",
      "[[ 9 11  9]]\n"
     ]
    }
   ],
   "source": [
    "'''\n",
    "In-class activity: If T1 = [[12, 13, 11], [9, 11, 9], [2, 5, 7]]. How can we slice T1 so that we \n",
    "get tensor with values [9, 11, 9].\n",
    "'''\n",
    "T1 = tf.constant([[12, 13, 11], [9, 11, 9], [2, 5, 7]])\n",
    "T2 = tf.slice(T1, [1,0], [1, 3])\n",
    "with tf.Session() as sess1:\n",
    "    print(sess1.run(T1))\n",
    "    print(sess1.run(T2))"
   ]
  },
  {
   "cell_type": "markdown",
   "metadata": {},
   "source": [
    "## 30_mathematical_operations"
   ]
  },
  {
   "cell_type": "code",
   "execution_count": 29,
   "metadata": {
    "collapsed": false
   },
   "outputs": [
    {
     "name": "stdout",
     "output_type": "stream",
     "text": [
      "[[  96.  132.   34.]\n",
      " [  90.   32.   17.]]\n",
      "[[[384 396 408]\n",
      "  [180 192 204]]\n",
      "\n",
      " [[388 399 420]\n",
      "  [182 198 216]]\n",
      "\n",
      " [[392 402 432]\n",
      "  [184 204 228]]]\n"
     ]
    }
   ],
   "source": [
    "'''\n",
    "In-class activity: Create a tensor, T1 = [[384,396,408], [180,192,204]] and T2 = [[4, 3, 12], [2, 6, 12]]\n",
    "Find the following:\n",
    "1) divide T1 with T2\n",
    "2) find cumsum of T1, T2 and T2\n",
    "'''\n",
    "T1 = tf.constant([[384,396,408], [180,192,204]])\n",
    "T2 = tf.constant([[4, 3, 12], [2, 6, 12]])\n",
    "\n",
    "#1 divide T1 with T2\n",
    "Tdiv = tf.truediv(T1, T2)\n",
    "\n",
    "#2 find cumsum of T1, T2 and T2\n",
    "Tcumsum = tf.cumsum([T1, T2, T2])\n",
    "\n",
    "with tf.Session() as sess:\n",
    "    print(sess.run(Tdiv))\n",
    "    print(sess.run(Tcumsum))\n"
   ]
  },
  {
   "cell_type": "markdown",
   "metadata": {},
   "source": [
    "## 40_simple_examples"
   ]
  },
  {
   "cell_type": "code",
   "execution_count": 25,
   "metadata": {
    "collapsed": false
   },
   "outputs": [
    {
     "name": "stdout",
     "output_type": "stream",
     "text": [
      "45\n",
      "723\n"
     ]
    }
   ],
   "source": [
    "'''\n",
    "In-class activity: If T = [[121, 99, 145], [45, 119, 225], [235, 170, 723]]\n",
    "Find\n",
    "1) the minimum value in T and print it\n",
    "2) the maximum value in T and print it\n",
    "'''\n",
    "T = tf.constant([[121, 99, 145], [45, 119, 225], [235, 170, 723]])\n",
    "min1 = tf.reduce_min(T)\n",
    "max1 = tf.reduce_max(T)\n",
    "with tf.Session() as sess:\n",
    "    print(sess.run(min1))\n",
    "    print(sess.run(max1))"
   ]
  },
  {
   "cell_type": "code",
   "execution_count": 27,
   "metadata": {
    "collapsed": false
   },
   "outputs": [
    {
     "name": "stdout",
     "output_type": "stream",
     "text": [
      "[[ 4.79579878  4.59512997  4.97674084]\n",
      " [ 3.80668473  4.77913189 -6.90775537]\n",
      " [ 5.45958996  5.13580418  6.58341074]]\n"
     ]
    }
   ],
   "source": [
    "'''\n",
    "In-class activity: If T = [[121, 99, 145], [45, 119, 0], [235, 170, 723]]. Let eps = 0.001. \n",
    "Find\n",
    "1) add eps to every element in T\n",
    "2) compute the log of the tensor that is obtained in 1).\n",
    "'''\n",
    "T = tf.constant([[121, 99, 145], [45, 119, 0], [235, 170, 723]], tf.float32)\n",
    "eps = tf.constant(0.001)\n",
    "Teps = T+eps\n",
    "Tlog = tf.log(Teps)\n",
    "with tf.Session() as sess:\n",
    "    print(sess.run(Tlog))"
   ]
  },
  {
   "cell_type": "code",
   "execution_count": null,
   "metadata": {
    "collapsed": true
   },
   "outputs": [],
   "source": [
    "\n",
    "'''\n",
    "In-class activity\n",
    "\n",
    "1. Apply log transformation to the placeholder image, img. Make sure to add eps to it, so that we do not calculate log(0)\n",
    "\n",
    "2. Calculate the maximum value in the tensor from the previous step across all dimensions\n",
    "\n",
    "3. Calculate the minimum value in the tensor from the previous step across all dimensions\n",
    "\n",
    "4. Scale the tensor, so that the resultant tensor can only have values from 0 to 255. Use the \n",
    "formula maxpixelvalue*(logval-min)/(max-min)\n",
    "'''\n",
    "\n",
    "import cv2\n",
    "import tensorflow as tf\n",
    "\n",
    "logoimg = cv2.imread('tensorflow_logo_gray.png',0)\n",
    "print(logoimg.shape)\n",
    "\n",
    "maxpixelvalue = tf.constant(255, dtype=tf.float32)\n",
    "img = tf.placeholder(tf.float32, shape=None)\n",
    "eps = tf.constant(1e-5, dtype=tf.float32)\n",
    "\n",
    "logtransformed = tf.log(img+eps)\n",
    "maxval = tf.reduce_max(logtransformed)\n",
    "minval = tf.reduce_min(logtransformed)\n",
    "scaledlogtransformed = maxpixelvalue*(logtransformed-minval)/(maxval-minval)\n",
    "print(scaledlogtransformed)\n",
    "\n",
    "with tf.Session() as sess1:\n",
    "    scaledimg = sess1.run(scaledlogtransformed, feed_dict={img: logoimg})\n",
    "    \n",
    "cv2.imwrite('logoimage.png', scaledimg)"
   ]
  },
  {
   "cell_type": "markdown",
   "metadata": {},
   "source": [
    "## 90_CNN_LeNet"
   ]
  },
  {
   "cell_type": "code",
   "execution_count": null,
   "metadata": {
    "collapsed": true
   },
   "outputs": [],
   "source": [
    "'''\n",
    "In-class activity:\n",
    "1. Add one more layer after conv2. The new layer will also have kernel of size 5 x 5, 128 of them.\n",
    "2. The resultant output of the filter will be a 4*4 image.\n",
    "3. Add bias as well with a length of 128. \n",
    "4. Rerun the architecture.\n",
    "'''\n",
    "# The solution to this is provided in 91_CNN_LeNet_modified.ipynb"
   ]
  }
 ],
 "metadata": {
  "kernelspec": {
   "display_name": "Python 3",
   "language": "python",
   "name": "python3"
  },
  "language_info": {
   "codemirror_mode": {
    "name": "ipython",
    "version": 3
   },
   "file_extension": ".py",
   "mimetype": "text/x-python",
   "name": "python",
   "nbconvert_exporter": "python",
   "pygments_lexer": "ipython3",
   "version": "3.6.0"
  }
 },
 "nbformat": 4,
 "nbformat_minor": 2
}
