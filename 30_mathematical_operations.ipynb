{
 "cells": [
  {
   "cell_type": "markdown",
   "metadata": {},
   "source": [
    "# Basic math functions"
   ]
  },
  {
   "cell_type": "code",
   "execution_count": 2,
   "metadata": {
    "collapsed": true
   },
   "outputs": [],
   "source": [
    "import tensorflow as tf"
   ]
  },
  {
   "cell_type": "code",
   "execution_count": 3,
   "metadata": {
    "collapsed": false
   },
   "outputs": [
    {
     "name": "stdout",
     "output_type": "stream",
     "text": [
      "Tensor(\"Const:0\", shape=(2, 3), dtype=int32) Tensor(\"Const_1:0\", shape=(2, 3), dtype=int32)\n",
      "Tensor(\"Add:0\", shape=(2, 3), dtype=int32)\n",
      "[[ 8 10 12]\n",
      " [ 4  6  8]]\n"
     ]
    }
   ],
   "source": [
    "t1 = tf.constant([[1, 2, 3], [4, 5, 6]])\n",
    "t2 = tf.constant([[7, 8, 9], [0, 1, 2]])\n",
    "print(t1, t2)\n",
    "t3 = tf.add(t1, t2) # Element by element addition\n",
    "print(t3)\n",
    "with tf.Session() as sess1:\n",
    "    print(sess1.run(t3))\n",
    "# similarly there is sub for subtraction, mul for multiplication etc."
   ]
  },
  {
   "cell_type": "code",
   "execution_count": 4,
   "metadata": {
    "collapsed": false
   },
   "outputs": [
    {
     "ename": "TypeError",
     "evalue": "Input 'y' of 'Add' Op has type float32 that does not match type int32 of argument 'x'.",
     "output_type": "error",
     "traceback": [
      "\u001b[0;31m---------------------------------------------------------------------------\u001b[0m",
      "\u001b[0;31mValueError\u001b[0m                                Traceback (most recent call last)",
      "\u001b[0;32m/Users/chityala/anaconda/lib/python3.6/site-packages/tensorflow/python/framework/op_def_library.py\u001b[0m in \u001b[0;36mapply_op\u001b[0;34m(self, op_type_name, name, **keywords)\u001b[0m\n\u001b[1;32m    490\u001b[0m                 \u001b[0mas_ref\u001b[0m\u001b[0;34m=\u001b[0m\u001b[0minput_arg\u001b[0m\u001b[0;34m.\u001b[0m\u001b[0mis_ref\u001b[0m\u001b[0;34m,\u001b[0m\u001b[0;34m\u001b[0m\u001b[0m\n\u001b[0;32m--> 491\u001b[0;31m                 preferred_dtype=default_dtype)\n\u001b[0m\u001b[1;32m    492\u001b[0m           \u001b[0;32mexcept\u001b[0m \u001b[0mTypeError\u001b[0m \u001b[0;32mas\u001b[0m \u001b[0merr\u001b[0m\u001b[0;34m:\u001b[0m\u001b[0;34m\u001b[0m\u001b[0m\n",
      "\u001b[0;32m/Users/chityala/anaconda/lib/python3.6/site-packages/tensorflow/python/framework/ops.py\u001b[0m in \u001b[0;36minternal_convert_to_tensor\u001b[0;34m(value, dtype, name, as_ref, preferred_dtype)\u001b[0m\n\u001b[1;32m    715\u001b[0m         \u001b[0;32mif\u001b[0m \u001b[0mret\u001b[0m \u001b[0;32mis\u001b[0m \u001b[0;32mNone\u001b[0m\u001b[0;34m:\u001b[0m\u001b[0;34m\u001b[0m\u001b[0m\n\u001b[0;32m--> 716\u001b[0;31m           \u001b[0mret\u001b[0m \u001b[0;34m=\u001b[0m \u001b[0mconversion_func\u001b[0m\u001b[0;34m(\u001b[0m\u001b[0mvalue\u001b[0m\u001b[0;34m,\u001b[0m \u001b[0mdtype\u001b[0m\u001b[0;34m=\u001b[0m\u001b[0mdtype\u001b[0m\u001b[0;34m,\u001b[0m \u001b[0mname\u001b[0m\u001b[0;34m=\u001b[0m\u001b[0mname\u001b[0m\u001b[0;34m,\u001b[0m \u001b[0mas_ref\u001b[0m\u001b[0;34m=\u001b[0m\u001b[0mas_ref\u001b[0m\u001b[0;34m)\u001b[0m\u001b[0;34m\u001b[0m\u001b[0m\n\u001b[0m\u001b[1;32m    717\u001b[0m \u001b[0;34m\u001b[0m\u001b[0m\n",
      "\u001b[0;32m/Users/chityala/anaconda/lib/python3.6/site-packages/tensorflow/python/framework/ops.py\u001b[0m in \u001b[0;36m_TensorTensorConversionFunction\u001b[0;34m(t, dtype, name, as_ref)\u001b[0m\n\u001b[1;32m    588\u001b[0m         \u001b[0;34m\"Tensor conversion requested dtype %s for Tensor with dtype %s: %r\"\u001b[0m\u001b[0;34m\u001b[0m\u001b[0m\n\u001b[0;32m--> 589\u001b[0;31m         % (dtype.name, t.dtype.name, str(t)))\n\u001b[0m\u001b[1;32m    590\u001b[0m   \u001b[0;32mreturn\u001b[0m \u001b[0mt\u001b[0m\u001b[0;34m\u001b[0m\u001b[0m\n",
      "\u001b[0;31mValueError\u001b[0m: Tensor conversion requested dtype int32 for Tensor with dtype float32: 'Tensor(\"Const_3:0\", shape=(2, 3), dtype=float32)'",
      "\nDuring handling of the above exception, another exception occurred:\n",
      "\u001b[0;31mTypeError\u001b[0m                                 Traceback (most recent call last)",
      "\u001b[0;32m<ipython-input-4-3ec92c22c60f>\u001b[0m in \u001b[0;36m<module>\u001b[0;34m()\u001b[0m\n\u001b[1;32m      4\u001b[0m \u001b[0mt1\u001b[0m \u001b[0;34m=\u001b[0m \u001b[0mtf\u001b[0m\u001b[0;34m.\u001b[0m\u001b[0mconstant\u001b[0m\u001b[0;34m(\u001b[0m\u001b[0;34m[\u001b[0m\u001b[0;34m[\u001b[0m\u001b[0;36m1\u001b[0m\u001b[0;34m,\u001b[0m \u001b[0;36m2\u001b[0m\u001b[0;34m,\u001b[0m \u001b[0;36m3\u001b[0m\u001b[0;34m]\u001b[0m\u001b[0;34m,\u001b[0m \u001b[0;34m[\u001b[0m\u001b[0;36m4\u001b[0m\u001b[0;34m,\u001b[0m \u001b[0;36m5\u001b[0m\u001b[0;34m,\u001b[0m \u001b[0;36m6\u001b[0m\u001b[0;34m]\u001b[0m\u001b[0;34m]\u001b[0m\u001b[0;34m)\u001b[0m\u001b[0;34m\u001b[0m\u001b[0m\n\u001b[1;32m      5\u001b[0m \u001b[0mt2\u001b[0m \u001b[0;34m=\u001b[0m \u001b[0mtf\u001b[0m\u001b[0;34m.\u001b[0m\u001b[0mconstant\u001b[0m\u001b[0;34m(\u001b[0m\u001b[0;34m[\u001b[0m\u001b[0;34m[\u001b[0m\u001b[0;36m7\u001b[0m\u001b[0;34m,\u001b[0m \u001b[0;36m8\u001b[0m\u001b[0;34m,\u001b[0m \u001b[0;36m9\u001b[0m\u001b[0;34m]\u001b[0m\u001b[0;34m,\u001b[0m \u001b[0;34m[\u001b[0m\u001b[0;36m0\u001b[0m\u001b[0;34m,\u001b[0m \u001b[0;36m1\u001b[0m\u001b[0;34m,\u001b[0m \u001b[0;36m2\u001b[0m\u001b[0;34m]\u001b[0m\u001b[0;34m]\u001b[0m\u001b[0;34m,\u001b[0m \u001b[0mtf\u001b[0m\u001b[0;34m.\u001b[0m\u001b[0mfloat32\u001b[0m\u001b[0;34m)\u001b[0m\u001b[0;34m\u001b[0m\u001b[0m\n\u001b[0;32m----> 6\u001b[0;31m \u001b[0mt3\u001b[0m \u001b[0;34m=\u001b[0m \u001b[0mtf\u001b[0m\u001b[0;34m.\u001b[0m\u001b[0madd\u001b[0m\u001b[0;34m(\u001b[0m\u001b[0mt1\u001b[0m\u001b[0;34m,\u001b[0m \u001b[0mt2\u001b[0m\u001b[0;34m)\u001b[0m \u001b[0;31m# this will fail as t1 and t2 are not of the same type\u001b[0m\u001b[0;34m\u001b[0m\u001b[0m\n\u001b[0m",
      "\u001b[0;32m/Users/chityala/anaconda/lib/python3.6/site-packages/tensorflow/python/ops/gen_math_ops.py\u001b[0m in \u001b[0;36madd\u001b[0;34m(x, y, name)\u001b[0m\n\u001b[1;32m     71\u001b[0m     \u001b[0mA\u001b[0m\u001b[0;31m \u001b[0m\u001b[0;31m`\u001b[0m\u001b[0mTensor\u001b[0m\u001b[0;31m`\u001b[0m\u001b[0;34m.\u001b[0m \u001b[0mHas\u001b[0m \u001b[0mthe\u001b[0m \u001b[0msame\u001b[0m \u001b[0mtype\u001b[0m \u001b[0;32mas\u001b[0m\u001b[0;31m \u001b[0m\u001b[0;31m`\u001b[0m\u001b[0mx\u001b[0m\u001b[0;31m`\u001b[0m\u001b[0;34m.\u001b[0m\u001b[0;34m\u001b[0m\u001b[0m\n\u001b[1;32m     72\u001b[0m   \"\"\"\n\u001b[0;32m---> 73\u001b[0;31m   \u001b[0mresult\u001b[0m \u001b[0;34m=\u001b[0m \u001b[0m_op_def_lib\u001b[0m\u001b[0;34m.\u001b[0m\u001b[0mapply_op\u001b[0m\u001b[0;34m(\u001b[0m\u001b[0;34m\"Add\"\u001b[0m\u001b[0;34m,\u001b[0m \u001b[0mx\u001b[0m\u001b[0;34m=\u001b[0m\u001b[0mx\u001b[0m\u001b[0;34m,\u001b[0m \u001b[0my\u001b[0m\u001b[0;34m=\u001b[0m\u001b[0my\u001b[0m\u001b[0;34m,\u001b[0m \u001b[0mname\u001b[0m\u001b[0;34m=\u001b[0m\u001b[0mname\u001b[0m\u001b[0;34m)\u001b[0m\u001b[0;34m\u001b[0m\u001b[0m\n\u001b[0m\u001b[1;32m     74\u001b[0m   \u001b[0;32mreturn\u001b[0m \u001b[0mresult\u001b[0m\u001b[0;34m\u001b[0m\u001b[0m\n\u001b[1;32m     75\u001b[0m \u001b[0;34m\u001b[0m\u001b[0m\n",
      "\u001b[0;32m/Users/chityala/anaconda/lib/python3.6/site-packages/tensorflow/python/framework/op_def_library.py\u001b[0m in \u001b[0;36mapply_op\u001b[0;34m(self, op_type_name, name, **keywords)\u001b[0m\n\u001b[1;32m    520\u001b[0m                   \u001b[0;34m\"%s type %s of argument '%s'.\"\u001b[0m \u001b[0;34m%\u001b[0m\u001b[0;34m\u001b[0m\u001b[0m\n\u001b[1;32m    521\u001b[0m                   (prefix, dtypes.as_dtype(attrs[input_arg.type_attr]).name,\n\u001b[0;32m--> 522\u001b[0;31m                    inferred_from[input_arg.type_attr]))\n\u001b[0m\u001b[1;32m    523\u001b[0m \u001b[0;34m\u001b[0m\u001b[0m\n\u001b[1;32m    524\u001b[0m           \u001b[0mtypes\u001b[0m \u001b[0;34m=\u001b[0m \u001b[0;34m[\u001b[0m\u001b[0mvalues\u001b[0m\u001b[0;34m.\u001b[0m\u001b[0mdtype\u001b[0m\u001b[0;34m]\u001b[0m\u001b[0;34m\u001b[0m\u001b[0m\n",
      "\u001b[0;31mTypeError\u001b[0m: Input 'y' of 'Add' Op has type float32 that does not match type int32 of argument 'x'."
     ]
    }
   ],
   "source": [
    "# t1 and t2 must be of the same type\n",
    "# for example in the following code, t1 is of dtype int32 while t2 is of \n",
    "# dtype float32 in this case, the addition will fail\n",
    "t1 = tf.constant([[1, 2, 3], [4, 5, 6]])\n",
    "t2 = tf.constant([[7, 8, 9], [0, 1, 2]], tf.float32)\n",
    "t3 = tf.add(t1, t2) # this will fail as t1 and t2 are not of the same type"
   ]
  },
  {
   "cell_type": "code",
   "execution_count": 5,
   "metadata": {
    "collapsed": false
   },
   "outputs": [
    {
     "name": "stdout",
     "output_type": "stream",
     "text": [
      "[[ 0.14285714  0.25        0.33333333]\n",
      " [        inf  5.          3.        ]]\n"
     ]
    }
   ],
   "source": [
    "t1 = tf.constant([[1, 2, 3], [4, 5, 6]])\n",
    "t2 = tf.constant([[7, 8, 9], [0, 1, 2]])\n",
    "t3 = tf.truediv(t1, t2) # Element by element division which returns floating point value\n",
    "with tf.Session() as sess1:\n",
    "    print(sess1.run(t3))\n",
    "# Note that the zero division did not generate ZeroDivisionError as in Python\n",
    "# instead it creates a value of inf in the tensor"
   ]
  },
  {
   "cell_type": "code",
   "execution_count": 5,
   "metadata": {
    "collapsed": false
   },
   "outputs": [
    {
     "name": "stdout",
     "output_type": "stream",
     "text": [
      "[[7 4 3]\n",
      " [0 0 0]]\n",
      "The dtype of t3 is  <dtype: 'int32'>\n"
     ]
    }
   ],
   "source": [
    "t1 = tf.constant([[1, 2, 3], [4, 5, 6]])\n",
    "t2 = tf.constant([[7, 8, 9], [0, 1, 2]])\n",
    "t3 = tf.floordiv(t2, t1) # Element by element division which returns integer value\n",
    "with tf.Session() as sess1:\n",
    "    print(sess1.run(t3))\n",
    "print(\"The dtype of t3 is \", t3.dtype) # check the value of dtype of t3 and it is int32"
   ]
  },
  {
   "cell_type": "code",
   "execution_count": 6,
   "metadata": {
    "collapsed": false
   },
   "outputs": [
    {
     "name": "stdout",
     "output_type": "stream",
     "text": [
      "[[-6 12 -6]\n",
      " [ 4 -8  4]]\n"
     ]
    }
   ],
   "source": [
    "# Cross product between t1 and t2\n",
    "t1 = tf.constant([[1, 2, 3], [4, 5, 6]])\n",
    "t2 = tf.constant([[7, 8, 9], [0, 1, 2]])\n",
    "t3 = tf.cross(t1, t2) # evaluates cross product\n",
    "with tf.Session() as sess1:\n",
    "    print(sess1.run(t3))"
   ]
  },
  {
   "cell_type": "markdown",
   "metadata": {},
   "source": [
    "# Matrix functions"
   ]
  },
  {
   "cell_type": "code",
   "execution_count": 4,
   "metadata": {
    "collapsed": false
   },
   "outputs": [
    {
     "name": "stdout",
     "output_type": "stream",
     "text": [
      "[[ 50   8]\n",
      " [122  17]]\n"
     ]
    }
   ],
   "source": [
    "# matrix multiplication\n",
    "t1 = tf.constant([[1, 2, 3], [4, 5, 6]])\n",
    "t2 = tf.constant([[7, 8, 9], [0, 1, 2]])\n",
    "t3 = tf.transpose(t2, perm=[1, 0]) # transpose t2, so that we can perform matrix multiplication\n",
    "t4 = tf.matmul(t1, t3) # matrix multiplication \n",
    "with tf.Session() as sess1:\n",
    "    print(sess1.run(t4))"
   ]
  },
  {
   "cell_type": "code",
   "execution_count": 8,
   "metadata": {
    "collapsed": false
   },
   "outputs": [
    {
     "name": "stdout",
     "output_type": "stream",
     "text": [
      "[[ 0.03010346  0.03802261 -0.04359535]\n",
      " [-0.07596523 -0.01711817  0.04978136]\n",
      " [ 0.04375533  0.00389292 -0.01287863]]\n"
     ]
    }
   ],
   "source": [
    "# matrix inverse\n",
    "# The matrix_inverse expects that the input tensor whose\n",
    "# 1. inner most dimension is square (i.e.,) shape=[..., M, M]\n",
    "# 2. dtype is float32 or float64.\n",
    "t1 = tf.constant([[1, 12, 43], [45, 57, 68], [17, 58, 89]], tf.float32)\n",
    "t2 = tf.matrix_inverse(t1) # inverse t1\n",
    "with tf.Session() as sess1:\n",
    "    print(sess1.run(t2))"
   ]
  },
  {
   "cell_type": "markdown",
   "metadata": {},
   "source": [
    "A reduce operation takes a tensor and converts it to a tensor of smaller dimension. There are a number of reduce operations. The name of the method indicates the operation used for reduction. \n",
    "\n",
    "For example the function reduce_sum sums all the values in the tensor, the function reduce_prod multiplies all the values in the tensor."
   ]
  },
  {
   "cell_type": "code",
   "execution_count": 4,
   "metadata": {
    "collapsed": false
   },
   "outputs": [
    {
     "name": "stdout",
     "output_type": "stream",
     "text": [
      "21\n",
      "720\n",
      "1\n"
     ]
    }
   ],
   "source": [
    "t1 = tf.constant([[1, 2, 3], [4, 5, 6]])\n",
    "t_sum = tf.reduce_sum(t1)   # This is equal to the sum of all the values in t1\n",
    "t_prod = tf.reduce_prod(t1) # This is equal to the product of all the values in t1\n",
    "t_min = tf.reduce_min(t1)   # This is equal to the minimum of all the values in t1\n",
    "with tf.Session() as sess1:\n",
    "    print(sess1.run(t_sum))\n",
    "    print(sess1.run(t_prod)) \n",
    "    print(sess1.run(t_min)) "
   ]
  },
  {
   "cell_type": "code",
   "execution_count": 3,
   "metadata": {
    "collapsed": false
   },
   "outputs": [
    {
     "name": "stdout",
     "output_type": "stream",
     "text": [
      "[[ 9 12 15]\n",
      " [ 8 11 14]]\n"
     ]
    }
   ],
   "source": [
    "t1 = tf.constant([[1, 2, 3], [4, 5, 6]])\n",
    "t2 = tf.constant([[7, 8, 9], [0, 1, 2]])\n",
    "t_elemsum = tf.accumulate_n([t1, t2, t1])  \n",
    "# This is equal to element by element sum of t1 + t2 + t1\n",
    "with tf.Session() as sess1:\n",
    "    print(sess1.run(t_elemsum))"
   ]
  },
  {
   "cell_type": "code",
   "execution_count": 5,
   "metadata": {
    "collapsed": false
   },
   "outputs": [
    {
     "name": "stdout",
     "output_type": "stream",
     "text": [
      "[[[ 1  2  3]\n",
      "  [ 4  5  6]]\n",
      "\n",
      " [[ 8 10 12]\n",
      "  [ 4  6  8]]\n",
      "\n",
      " [[ 9 12 15]\n",
      "  [ 8 11 14]]]\n"
     ]
    }
   ],
   "source": [
    "t1 = tf.constant([[1, 2, 3], [4, 5, 6]])\n",
    "t2 = tf.constant([[7, 8, 9], [0, 1, 2]])\n",
    "t3 = tf.cumsum([t1, t2, t1], axis=0) # cumulative sum\n",
    "with tf.Session() as sess1:\n",
    "    print(sess1.run(t3)) "
   ]
  },
  {
   "cell_type": "code",
   "execution_count": 2,
   "metadata": {
    "collapsed": false
   },
   "outputs": [
    {
     "name": "stdout",
     "output_type": "stream",
     "text": [
      "[[[ 1  2  3]\n",
      "  [ 4  5  6]]\n",
      "\n",
      " [[ 7 16 27]\n",
      "  [ 0  5 12]]\n",
      "\n",
      " [[ 7 32 81]\n",
      "  [ 0 25 72]]]\n"
     ]
    }
   ],
   "source": [
    "t1 = tf.constant([[1, 2, 3], [4, 5, 6]])\n",
    "t2 = tf.constant([[7, 8, 9], [0, 1, 2]])\n",
    "t3 = tf.cumprod([t1, t2, t1], axis=0) # cumulative product\n",
    "with tf.Session() as sess1:\n",
    "    print(sess1.run(t3)) "
   ]
  },
  {
   "cell_type": "code",
   "execution_count": null,
   "metadata": {
    "collapsed": true
   },
   "outputs": [],
   "source": [
    "'''\n",
    "In-class activity: Create a tensor, T1 = [[384,396,408], [180,192,204]] and T2 = [[4, 3, 12], [2, 6, 12]]\n",
    "Find the following:\n",
    "1) divide T1 with T2\n",
    "2) find cumsum of T1, T2 and T2\n",
    "'''"
   ]
  }
 ],
 "metadata": {
  "anaconda-cloud": {},
  "kernelspec": {
   "display_name": "Python 3",
   "language": "python",
   "name": "python3"
  },
  "language_info": {
   "codemirror_mode": {
    "name": "ipython",
    "version": 3
   },
   "file_extension": ".py",
   "mimetype": "text/x-python",
   "name": "python",
   "nbconvert_exporter": "python",
   "pygments_lexer": "ipython3",
   "version": "3.6.0"
  }
 },
 "nbformat": 4,
 "nbformat_minor": 1
}
