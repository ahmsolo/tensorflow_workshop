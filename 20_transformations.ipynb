{
 "cells": [
  {
   "cell_type": "markdown",
   "metadata": {},
   "source": [
    "# Transformation"
   ]
  },
  {
   "cell_type": "markdown",
   "metadata": {},
   "source": [
    "## Casting"
   ]
  },
  {
   "cell_type": "code",
   "execution_count": null,
   "metadata": {
    "collapsed": true
   },
   "outputs": [],
   "source": [
    "import tensorflow as tf\n",
    "import numpy as np"
   ]
  },
  {
   "cell_type": "code",
   "execution_count": null,
   "metadata": {
    "collapsed": false
   },
   "outputs": [],
   "source": [
    "t1 = tf.constant([1, 2, 3]) # The datatype for individual element is int32\n",
    "print(t1)\n",
    "t2 = tf.cast(t1, tf.float32)  # Cast the individual elements from int32 to float32\n",
    "print(t2)"
   ]
  },
  {
   "cell_type": "code",
   "execution_count": null,
   "metadata": {
    "collapsed": false
   },
   "outputs": [],
   "source": [
    "# tf.cast is generic method that can be used to convert from one dtype to another\n",
    "# There are also specialized method such as tf.to_float32()\n",
    "t2 = tf.to_float(t1)  # Specialized function. \n",
    "print(t2)"
   ]
  },
  {
   "cell_type": "code",
   "execution_count": null,
   "metadata": {
    "collapsed": true
   },
   "outputs": [],
   "source": [
    "'''\n",
    "In-class activity: Define a tensor, T1 with values [31 37 41] then print the dtype of this tensor. \n",
    "Then change T1's dtype to float using \n",
    "1) to_float()\n",
    "2) cast()\n",
    "'''"
   ]
  },
  {
   "cell_type": "markdown",
   "metadata": {},
   "source": [
    "\n",
    "## Shapes"
   ]
  },
  {
   "cell_type": "code",
   "execution_count": null,
   "metadata": {
    "collapsed": false
   },
   "outputs": [],
   "source": [
    "# create a 4D tensor of shape 3, 4, 5, 6\n",
    "t1 = tf.zeros((3, 4, 5, 6)) \n",
    "t2 = tf.size(t1) # Size gives the number of elements\n",
    "with tf.Session() as sess1:\n",
    "    print(sess1.run(t2))"
   ]
  },
  {
   "cell_type": "code",
   "execution_count": null,
   "metadata": {
    "collapsed": false
   },
   "outputs": [],
   "source": [
    "# create a 4D tensor of shape 3, 4, 5, 6\n",
    "t1 = tf.zeros((3, 4, 5, 6))\n",
    "t2 = tf.shape(t1) # shape gives the size of each dimension\n",
    "with tf.Session() as sess1:\n",
    "    print(sess1.run(t2))"
   ]
  },
  {
   "cell_type": "code",
   "execution_count": null,
   "metadata": {
    "collapsed": false
   },
   "outputs": [],
   "source": [
    "# create a 4D tensor of shape 3, 4, 5, 6\n",
    "t1 = tf.zeros((3, 4, 5, 6))\n",
    "t2 = tf.rank(t1) # rank of the tensor\n",
    "with tf.Session() as sess1:\n",
    "    print(sess1.run(t2))"
   ]
  },
  {
   "cell_type": "code",
   "execution_count": null,
   "metadata": {
    "collapsed": false
   },
   "outputs": [],
   "source": [
    "t1 = tf.zeros((3, 4, 5, 6))\n",
    "t2 = tf.reshape(t1, (12, 5, 6)) # reshape tensor\n",
    "print(t1, t2)\n",
    "# Note that t1 is of shape 3, 4, 5, 6 while t2 is of shape 12, 5, 6"
   ]
  },
  {
   "cell_type": "code",
   "execution_count": null,
   "metadata": {
    "collapsed": false
   },
   "outputs": [],
   "source": [
    "t1 = tf.zeros((3, 4, 1, 6))\n",
    "t2 = tf.squeeze(t1) # squeeze removes dimensions of size 1\n",
    "print(t1)\n",
    "print(t2)\n",
    "# Note that t1 is of shape 3, 4, 1, 6 while t2 is of shape 3, 4, 6. \n",
    "# The 3rd dimension of size 1 is removed"
   ]
  },
  {
   "cell_type": "markdown",
   "metadata": {},
   "source": [
    "The syntax for slice is tf.slice(inputtensor, begin, size)\n",
    "\n",
    "begin has the same shape as the tensor and it contains the starting point in each dimension. In this example, the value of begin is [2, 0].  Thus in the first dimension (row) we begin at position 2 and  in the second dimension (column) we begin at 0. \n",
    "\n",
    "size has the same shape as the tensor and it contains the number of elements in each dimension. In this example, the value of size is [1, 2]. Thus we are indicating that we need one row and two columns to be sliced.\n",
    "\n",
    "** NOTE: begin is zero based and size is 1 based. **"
   ]
  },
  {
   "cell_type": "code",
   "execution_count": null,
   "metadata": {
    "collapsed": false
   },
   "outputs": [],
   "source": [
    "t1 = tf.constant([[1, -1, 3], [-11, 2, 1], [-5, 6, 9]])\n",
    "t2 = tf.slice(t1, [2, 0], [1, 2])\n",
    "\n",
    "with tf.Session() as sess1:\n",
    "    print(sess1.run(t1))\n",
    "    print(sess1.run(t2))"
   ]
  },
  {
   "cell_type": "code",
   "execution_count": null,
   "metadata": {
    "collapsed": false
   },
   "outputs": [],
   "source": [
    "'''\n",
    "In-class activity: Create a tensor with shape (12, 1, 14) and then drop the dimension 1.\n",
    "'''"
   ]
  },
  {
   "cell_type": "code",
   "execution_count": null,
   "metadata": {
    "collapsed": false
   },
   "outputs": [],
   "source": [
    "'''\n",
    "In-class activity: If T1 = [[12, 13, 11], [9, 11, 9], [2, 5, 7]]. How can we slice T1 so that we \n",
    "get tensor with values [9, 11, 9].\n",
    "'''"
   ]
  },
  {
   "cell_type": "code",
   "execution_count": null,
   "metadata": {
    "collapsed": true
   },
   "outputs": [],
   "source": []
  }
 ],
 "metadata": {
  "anaconda-cloud": {},
  "kernelspec": {
   "display_name": "Python 3",
   "language": "python",
   "name": "python3"
  },
  "language_info": {
   "codemirror_mode": {
    "name": "ipython",
    "version": 3
   },
   "file_extension": ".py",
   "mimetype": "text/x-python",
   "name": "python",
   "nbconvert_exporter": "python",
   "pygments_lexer": "ipython3",
   "version": "3.6.0"
  }
 },
 "nbformat": 4,
 "nbformat_minor": 1
}
