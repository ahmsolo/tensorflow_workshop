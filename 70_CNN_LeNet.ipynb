{
 "cells": [
  {
   "cell_type": "markdown",
   "metadata": {},
   "source": [
    "# LeNet CNN"
   ]
  },
  {
   "cell_type": "code",
   "execution_count": 2,
   "metadata": {
    "collapsed": true
   },
   "outputs": [],
   "source": [
    "import tensorflow as tf"
   ]
  },
  {
   "cell_type": "code",
   "execution_count": 3,
   "metadata": {
    "collapsed": false
   },
   "outputs": [
    {
     "name": "stdout",
     "output_type": "stream",
     "text": [
      "Successfully downloaded train-images-idx3-ubyte.gz 9912422 bytes.\n",
      "Extracting /tmp/data/train-images-idx3-ubyte.gz\n",
      "Successfully downloaded train-labels-idx1-ubyte.gz 28881 bytes.\n",
      "Extracting /tmp/data/train-labels-idx1-ubyte.gz\n",
      "Successfully downloaded t10k-images-idx3-ubyte.gz 1648877 bytes.\n",
      "Extracting /tmp/data/t10k-images-idx3-ubyte.gz\n",
      "Successfully downloaded t10k-labels-idx1-ubyte.gz 4542 bytes.\n",
      "Extracting /tmp/data/t10k-labels-idx1-ubyte.gz\n"
     ]
    }
   ],
   "source": [
    "# MNIST data from http://yann.lecun.com/exdb/mnist/\n",
    "from tensorflow.examples.tutorials.mnist import input_data\n",
    "mnist = input_data.read_data_sets(\"/tmp/data/\", one_hot=True)"
   ]
  },
  {
   "cell_type": "code",
   "execution_count": 4,
   "metadata": {
    "collapsed": false
   },
   "outputs": [
    {
     "name": "stdout",
     "output_type": "stream",
     "text": [
      "55000\n",
      "10000\n"
     ]
    }
   ],
   "source": [
    "print(mnist.train.num_examples) # Number of training data\n",
    "print(mnist.test.num_examples) # Number of test data"
   ]
  },
  {
   "cell_type": "code",
   "execution_count": 5,
   "metadata": {
    "collapsed": true
   },
   "outputs": [],
   "source": [
    "# architecture hyper-parameter\n",
    "learning_rate = 0.01\n",
    "training_iters = 100000\n",
    "batch_size = 128\n",
    "display_step = 20\n",
    "\n",
    "n_input = 784 # 28x28 image\n",
    "n_classes = 10 # 1 for each digit [0-9]\n",
    "dropout = 0.75 "
   ]
  },
  {
   "cell_type": "code",
   "execution_count": 7,
   "metadata": {
    "collapsed": false
   },
   "outputs": [
    {
     "name": "stdout",
     "output_type": "stream",
     "text": [
      "(?, 784) (?, 10)\n"
     ]
    }
   ],
   "source": [
    "x = tf.placeholder(tf.float32, [None, n_input])\n",
    "y = tf.placeholder(tf.float32, [None, n_classes])\n",
    "keep_prob = tf.placeholder(tf.float32)\n",
    "print(x.shape, y.shape)"
   ]
  },
  {
   "cell_type": "code",
   "execution_count": 8,
   "metadata": {
    "collapsed": true
   },
   "outputs": [],
   "source": [
    "def conv2d(x, W, b, strides=1):\n",
    "    x = tf.nn.conv2d(x, W, strides=[1, strides, strides, 1], padding='SAME')\n",
    "    x = tf.nn.bias_add(x, b)\n",
    "    return tf.nn.relu(x)"
   ]
  },
  {
   "cell_type": "code",
   "execution_count": 9,
   "metadata": {
    "collapsed": true
   },
   "outputs": [],
   "source": [
    "def maxpool2d(x, k=2):\n",
    "    return tf.nn.max_pool(x, ksize=[1, k, k, 1], strides=[1, k, k, 1], padding='SAME')"
   ]
  },
  {
   "cell_type": "code",
   "execution_count": 10,
   "metadata": {
    "collapsed": false
   },
   "outputs": [],
   "source": [
    "def conv_net(x, weights, biases, dropout):\n",
    "    # reshape input to 28x28 size\n",
    "    x = tf.reshape(x, shape=[-1, 28, 28, 1])\n",
    "\n",
    "    # Convolution layer 1\n",
    "    conv1 = conv2d(x, weights['wc1'], biases['bc1'])\n",
    "    # Max pooling\n",
    "    conv1 = maxpool2d(conv1, k=2)\n",
    "\n",
    "    # Convolution layer 2\n",
    "    conv2 = conv2d(conv1, weights['wc2'], biases['bc2'])\n",
    "    # Max pooling\n",
    "    conv2 = maxpool2d(conv2, k=2)\n",
    "\n",
    "    # Fully connected layer\n",
    "    fc1 = tf.reshape(conv2, [-1, weights['wd1'].get_shape().as_list()[0]])\n",
    "    fc1 = tf.add(tf.matmul(fc1, weights['wd1']), biases['bd1'])\n",
    "    fc1 = tf.nn.relu(fc1)\n",
    "    fc1 = tf.nn.dropout(fc1, dropout)\n",
    "\n",
    "    out = tf.add(tf.matmul(fc1, weights['out']), biases['out'])\n",
    "    return out"
   ]
  },
  {
   "cell_type": "code",
   "execution_count": 11,
   "metadata": {
    "collapsed": true
   },
   "outputs": [],
   "source": [
    "weights = {\n",
    "    'wc1': tf.Variable(tf.random_normal([5, 5, 1, 32])),\n",
    "    'wc2': tf.Variable(tf.random_normal([5, 5, 32, 64])),\n",
    "    'wd1': tf.Variable(tf.random_normal([7*7*64, 1024])),\n",
    "    'out': tf.Variable(tf.random_normal([1024, n_classes]))\n",
    "}\n",
    "\n",
    "biases = {\n",
    "    'bc1': tf.Variable(tf.random_normal([32])),\n",
    "    'bc2': tf.Variable(tf.random_normal([64])),\n",
    "    'bd1': tf.Variable(tf.random_normal([1024])),\n",
    "    'out': tf.Variable(tf.random_normal([n_classes]))\n",
    "}"
   ]
  },
  {
   "cell_type": "code",
   "execution_count": 12,
   "metadata": {
    "collapsed": false
   },
   "outputs": [
    {
     "name": "stdout",
     "output_type": "stream",
     "text": [
      "Tensor(\"Add_1:0\", shape=(?, 10), dtype=float32)\n"
     ]
    }
   ],
   "source": [
    "# Create the model\n",
    "model = conv_net(x, weights, biases, keep_prob)\n",
    "print(model)\n",
    "# Define loss and optimizer\n",
    "cost = tf.reduce_mean(tf.nn.softmax_cross_entropy_with_logits(logits=model, labels=y))\n",
    "optimizer = tf.train.AdamOptimizer(learning_rate=learning_rate).minimize(cost)\n",
    "\n",
    "# Evaluate model\n",
    "correct_model = tf.equal(tf.argmax(model, 1), tf.argmax(y, 1))\n",
    "accuracy = tf.reduce_mean(tf.cast(correct_model, tf.float32))\n",
    "\n",
    "# Initializing the variables\n",
    "init = tf.global_variables_initializer()"
   ]
  },
  {
   "cell_type": "code",
   "execution_count": 13,
   "metadata": {
    "collapsed": false
   },
   "outputs": [
    {
     "name": "stdout",
     "output_type": "stream",
     "text": [
      "Iter 2560, Loss= 1919.247, Training Accuracy= 0.680\n",
      "Iter 5120, Loss= 668.470, Training Accuracy= 0.805\n",
      "Iter 7680, Loss= 522.471, Training Accuracy= 0.844\n",
      "Iter 10240, Loss= 292.444, Training Accuracy= 0.867\n",
      "Iter 12800, Loss= 360.425, Training Accuracy= 0.844\n",
      "Iter 15360, Loss= 163.273, Training Accuracy= 0.914\n",
      "Iter 17920, Loss= 128.792, Training Accuracy= 0.906\n",
      "Iter 20480, Loss= 44.306, Training Accuracy= 0.945\n",
      "Iter 23040, Loss= 101.110, Training Accuracy= 0.953\n",
      "Iter 25600, Loss= 80.861, Training Accuracy= 0.914\n",
      "Iter 28160, Loss= 106.317, Training Accuracy= 0.930\n",
      "Iter 30720, Loss= 84.872, Training Accuracy= 0.938\n",
      "Iter 33280, Loss= 49.033, Training Accuracy= 0.953\n",
      "Iter 35840, Loss= 76.170, Training Accuracy= 0.961\n",
      "Iter 38400, Loss= 9.664, Training Accuracy= 0.977\n",
      "Iter 40960, Loss= 136.264, Training Accuracy= 0.914\n",
      "Iter 43520, Loss= 67.540, Training Accuracy= 0.922\n",
      "Iter 46080, Loss= 14.147, Training Accuracy= 0.977\n",
      "Iter 48640, Loss= 85.346, Training Accuracy= 0.938\n",
      "Iter 51200, Loss= 56.480, Training Accuracy= 0.945\n",
      "Iter 53760, Loss= 6.339, Training Accuracy= 0.984\n",
      "Iter 56320, Loss= 54.464, Training Accuracy= 0.969\n",
      "Iter 58880, Loss= 34.652, Training Accuracy= 0.969\n",
      "Iter 61440, Loss= 13.309, Training Accuracy= 0.984\n",
      "Iter 64000, Loss= 5.976, Training Accuracy= 0.984\n",
      "Iter 66560, Loss= 40.357, Training Accuracy= 0.953\n",
      "Iter 69120, Loss= 23.113, Training Accuracy= 0.977\n",
      "Iter 71680, Loss= 102.459, Training Accuracy= 0.938\n",
      "Iter 74240, Loss= 43.178, Training Accuracy= 0.969\n",
      "Iter 76800, Loss= 98.267, Training Accuracy= 0.930\n",
      "Iter 79360, Loss= 64.062, Training Accuracy= 0.945\n",
      "Iter 81920, Loss= 30.142, Training Accuracy= 0.953\n",
      "Iter 84480, Loss= 25.533, Training Accuracy= 0.969\n",
      "Iter 87040, Loss= 4.750, Training Accuracy= 0.984\n",
      "Iter 89600, Loss= 32.455, Training Accuracy= 0.969\n",
      "Iter 92160, Loss= 12.137, Training Accuracy= 0.961\n",
      "Iter 94720, Loss= 20.176, Training Accuracy= 0.984\n",
      "Iter 97280, Loss= 16.445, Training Accuracy= 0.969\n",
      "Iter 99840, Loss= 17.396, Training Accuracy= 0.977\n",
      "Optimization Finished!\n",
      "Testing Accuracy: 0.960938\n"
     ]
    }
   ],
   "source": [
    "# Launch the graph\n",
    "with tf.Session() as sess:\n",
    "    sess.run(init)\n",
    "    step = 1\n",
    "    # Keep training until reach max iterations\n",
    "    while step * batch_size < training_iters:\n",
    "        batch_x, batch_y = mnist.train.next_batch(batch_size)    \n",
    "        sess.run(optimizer, feed_dict={x: batch_x, y: batch_y, keep_prob: dropout})\n",
    "        if step % display_step == 0:\n",
    "            loss, acc = sess.run([cost, accuracy], feed_dict={x: batch_x,\n",
    "                                                              y: batch_y,\n",
    "                                                              keep_prob: 1.})\n",
    "            print(\"Iter \" + str(step*batch_size) + \", Loss= \" + \\\n",
    "                  \"{:.3f}\".format(loss) + \", Training Accuracy= \" + \\\n",
    "                  \"{:.3f}\".format(acc))\n",
    "        step += 1\n",
    "    print(\"Optimization Finished!\")\n",
    "\n",
    "    # Calculate accuracy for 256 mnist test images\n",
    "    print(\"Testing Accuracy:\", \\\n",
    "        sess.run(accuracy, feed_dict={x: mnist.test.images[:256],\n",
    "                                      y: mnist.test.labels[:256],\n",
    "                                      keep_prob: 1.}))"
   ]
  },
  {
   "cell_type": "code",
   "execution_count": null,
   "metadata": {
    "collapsed": true
   },
   "outputs": [],
   "source": [
    "'''\n",
    "In-class activity:\n",
    "1. Add one more layer after conv2. The new layer will also have kernel of size 5 x 5, 128 of them.\n",
    "2. The resultant output of the filter will be a 4*4 image.\n",
    "3. Add bias as well with a length of 128. \n",
    "4. Rerun the architecture.\n",
    "'''"
   ]
  },
  {
   "cell_type": "code",
   "execution_count": null,
   "metadata": {
    "collapsed": true
   },
   "outputs": [],
   "source": []
  }
 ],
 "metadata": {
  "kernelspec": {
   "display_name": "Python 3",
   "language": "python",
   "name": "python3"
  },
  "language_info": {
   "codemirror_mode": {
    "name": "ipython",
    "version": 3
   },
   "file_extension": ".py",
   "mimetype": "text/x-python",
   "name": "python",
   "nbconvert_exporter": "python",
   "pygments_lexer": "ipython3",
   "version": "3.6.0"
  }
 },
 "nbformat": 4,
 "nbformat_minor": 2
}
